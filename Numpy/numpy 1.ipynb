{
 "cells": [
  {
   "cell_type": "markdown",
   "id": "897069c8",
   "metadata": {},
   "source": [
    "# NumPy Introduction"
   ]
  },
  {
   "cell_type": "markdown",
   "id": "db953fa1",
   "metadata": {},
   "source": [
    "* NumPy stands for Numerical Python and also known as array oriented computing.\n",
    "* NumPy is a library written for scientific computing and data analysis.\n",
    "* NumPy consists of a powerful data structure called multidimensional arrays.\n",
    "* The most basic object in Numpy is the ndarray, or simply an array which is an n-dimensional, homogeneous array. By homogenous, we mean that all the elements in a NumPy array have to be of the same data type, which is commonly numeric (float or integer).\n",
    "\n",
    "# Why NumPy?\n",
    "* convenience & speed\n",
    "* NumPy is much faster than the standard python ways to do computations.\n",
    "* We don't have to do the explicit looping and indexing etc. (all of this happens behind the scenes, in precompiled C-code), and thus it is much more concise.\n",
    "* NumPy arrays are more compact than lists, i.e. they take much lesser storage space than lists"
   ]
  },
  {
   "cell_type": "markdown",
   "id": "a7d053f7",
   "metadata": {},
   "source": [
    "# Installation of NumPy"
   ]
  },
  {
   "cell_type": "code",
   "execution_count": null,
   "id": "67e3bf0c",
   "metadata": {},
   "outputs": [],
   "source": [
    "!pip install numpy"
   ]
  },
  {
   "cell_type": "markdown",
   "id": "9d058d25",
   "metadata": {},
   "source": [
    "# Importing numpy library"
   ]
  },
  {
   "cell_type": "code",
   "execution_count": 2,
   "id": "90c62eeb",
   "metadata": {},
   "outputs": [],
   "source": [
    "import numpy as np"
   ]
  },
  {
   "cell_type": "markdown",
   "id": "83174237",
   "metadata": {},
   "source": [
    "# creating array using .array() method"
   ]
  },
  {
   "cell_type": "code",
   "execution_count": null,
   "id": "eb5be55e",
   "metadata": {},
   "outputs": [],
   "source": [
    "arr = np.array([1, 2, 3, 4, 5])\n",
    "\n",
    "print(arr)"
   ]
  },
  {
   "cell_type": "markdown",
   "id": "7df7bfad",
   "metadata": {},
   "source": [
    "# 0-D Arrays\n",
    "0-D arrays, or Scalars, are the elements in an array. Each value in an array is a 0-D array."
   ]
  },
  {
   "cell_type": "code",
   "execution_count": null,
   "id": "fedffc7c",
   "metadata": {},
   "outputs": [],
   "source": [
    "arr = np.array(42)\n",
    "\n",
    "print(arr)"
   ]
  },
  {
   "cell_type": "markdown",
   "id": "364d67fb",
   "metadata": {},
   "source": [
    "# 1-D Arrays\n",
    "An array that has 0-D arrays as its elements is called uni-dimensional or 1-D array.\n",
    "\n",
    "These are the most common and basic arrays."
   ]
  },
  {
   "cell_type": "code",
   "execution_count": null,
   "id": "2704a420",
   "metadata": {},
   "outputs": [],
   "source": [
    "arr = np.array([1, 2, 3, 4, 5])\n",
    "\n",
    "print(arr)"
   ]
  },
  {
   "cell_type": "markdown",
   "id": "bea6bec8",
   "metadata": {},
   "source": [
    "# 2-D Arrays\n",
    "An array that has 1-D arrays as its elements is called a 2-D array.\n",
    "\n",
    "These are often used to represent matrix or 2nd order tensors."
   ]
  },
  {
   "cell_type": "code",
   "execution_count": null,
   "id": "eadab9df",
   "metadata": {},
   "outputs": [],
   "source": [
    "arr = np.array([[1, 2, 3], [4, 5, 6]])\n",
    "\n",
    "print(arr)"
   ]
  },
  {
   "cell_type": "markdown",
   "id": "98bac5ae",
   "metadata": {},
   "source": [
    "# Check type , dimensions  , shape , size , type"
   ]
  },
  {
   "cell_type": "code",
   "execution_count": null,
   "id": "94654e93",
   "metadata": {},
   "outputs": [],
   "source": [
    "arr = np.array( [[ 1, 2, 3],\n",
    "                 [ 4, 2, 5]] )"
   ]
  },
  {
   "cell_type": "code",
   "execution_count": null,
   "id": "f7e8b95d",
   "metadata": {},
   "outputs": [],
   "source": [
    "# Printing type of arr object\n",
    "print(\"Array is of type: \", type(arr))"
   ]
  },
  {
   "cell_type": "code",
   "execution_count": null,
   "id": "db742cd0",
   "metadata": {},
   "outputs": [],
   "source": [
    "# Printing array dimensions (axes)\n",
    "print(\"No. of dimensions: \", arr.ndim)"
   ]
  },
  {
   "cell_type": "code",
   "execution_count": null,
   "id": "9a5a8f2c",
   "metadata": {},
   "outputs": [],
   "source": [
    "# Printing shape of array\n",
    "print(\"Shape of array: \", arr.shape)\n",
    " "
   ]
  },
  {
   "cell_type": "code",
   "execution_count": null,
   "id": "d9100bb0",
   "metadata": {},
   "outputs": [],
   "source": [
    "# Printing size (total number of elements) of array\n",
    "print(\"Size of array: \", arr.size)"
   ]
  },
  {
   "cell_type": "code",
   "execution_count": null,
   "id": "21be1463",
   "metadata": {},
   "outputs": [],
   "source": [
    "# Printing type of elements in array\n",
    "print(\"Array stores elements of type: \", arr.dtype)"
   ]
  },
  {
   "cell_type": "markdown",
   "id": "9bf635b0",
   "metadata": {},
   "source": [
    "# Functions for creating array"
   ]
  },
  {
   "cell_type": "code",
   "execution_count": null,
   "id": "5baa7f57",
   "metadata": {},
   "outputs": [],
   "source": [
    "arr = np.ones((3, 3))\n",
    "\n",
    "print(arr)\n",
    "\n",
    "print(arr.dtype)\n",
    "\n",
    "print(arr.itemsize)"
   ]
  },
  {
   "cell_type": "code",
   "execution_count": null,
   "id": "1df5ea92",
   "metadata": {},
   "outputs": [],
   "source": [
    "arr = np.zeros((3, 3))\n",
    "\n",
    "print(arr)"
   ]
  },
  {
   "cell_type": "code",
   "execution_count": null,
   "id": "9e659ec9",
   "metadata": {},
   "outputs": [],
   "source": [
    "arr = np.eye(3)\n",
    "\n",
    "print(arr)"
   ]
  },
  {
   "cell_type": "code",
   "execution_count": null,
   "id": "22760155",
   "metadata": {},
   "outputs": [],
   "source": [
    "arr = np.arange(5)\n",
    "\n",
    "print(arr)"
   ]
  },
  {
   "cell_type": "code",
   "execution_count": null,
   "id": "4c55e2d8",
   "metadata": {},
   "outputs": [],
   "source": [
    "arr = np.arange(1, 10)\n",
    "\n",
    "print(arr)"
   ]
  },
  {
   "cell_type": "code",
   "execution_count": null,
   "id": "c4fab790",
   "metadata": {},
   "outputs": [],
   "source": [
    "arr = np.arange(1, 10, 2)\n",
    "\n",
    "print(arr)"
   ]
  },
  {
   "cell_type": "markdown",
   "id": "55c3d770",
   "metadata": {},
   "source": [
    "# Numpy Random Numbers"
   ]
  },
  {
   "cell_type": "markdown",
   "id": "9e473f99",
   "metadata": {},
   "source": [
    "1) np.random.rand - generates an array with random numbers that are uniformly distribute between 0 and 1.\n",
    "\n",
    "2) np.random.randn - generates an array with random numbers that are normally distributed, mean = 0 and stdev = 1.\n",
    "\n",
    "3) np.random.randint - generates an array with random numbers (integers) that are uniformly distribute between 0 and given number.\n",
    "\n",
    "4) np.random.uniform - generates an array with random numbers (float) between given numbers."
   ]
  },
  {
   "cell_type": "code",
   "execution_count": null,
   "id": "163f5326",
   "metadata": {},
   "outputs": [],
   "source": [
    "# np.random.rand - generates an array with random numbers that are uniformly distribute between 0 and 1.\n",
    "\n",
    "arr = np.random.rand(5)\n",
    "\n",
    "print(arr)"
   ]
  },
  {
   "cell_type": "code",
   "execution_count": null,
   "id": "074ef81c",
   "metadata": {},
   "outputs": [],
   "source": [
    "print(np.random.rand(10,2))"
   ]
  },
  {
   "cell_type": "code",
   "execution_count": null,
   "id": "c746bbc7",
   "metadata": {},
   "outputs": [],
   "source": [
    "# np.random.randn - generates an array with random numbers that are normally distributed, mean = 0 and stdev = 1.\n",
    "\n",
    "print(np.random.randn(5))"
   ]
  },
  {
   "cell_type": "code",
   "execution_count": null,
   "id": "7e94db1e",
   "metadata": {},
   "outputs": [],
   "source": [
    "print(np.random.randn(5, 4))"
   ]
  },
  {
   "cell_type": "code",
   "execution_count": null,
   "id": "816d87b7",
   "metadata": {},
   "outputs": [],
   "source": [
    "# np.random.randint - generates an array with random numbers (integers) that are uniformly distribute between 0 and given number.\n",
    "\n",
    "print(np.random.randint(35, 40, size = (5, 4)))"
   ]
  },
  {
   "cell_type": "code",
   "execution_count": null,
   "id": "115244c8",
   "metadata": {},
   "outputs": [],
   "source": [
    "#  np.random.uniform - generates an array with random numbers (float) between given numbers.\n",
    "\n",
    "print(np.random.uniform(5, size = (5, 4)))"
   ]
  },
  {
   "cell_type": "code",
   "execution_count": null,
   "id": "1f4989d7",
   "metadata": {},
   "outputs": [],
   "source": [
    "print(np.random.uniform(35, 40, size = (5, 4)))"
   ]
  },
  {
   "cell_type": "code",
   "execution_count": null,
   "id": "e81e2ca8",
   "metadata": {},
   "outputs": [],
   "source": []
  },
  {
   "cell_type": "code",
   "execution_count": null,
   "id": "cce28ac1",
   "metadata": {},
   "outputs": [],
   "source": []
  },
  {
   "cell_type": "code",
   "execution_count": null,
   "id": "4bc2facc",
   "metadata": {},
   "outputs": [],
   "source": []
  },
  {
   "cell_type": "markdown",
   "id": "d0c3affa",
   "metadata": {},
   "source": [
    "# Numpy Indexing"
   ]
  },
  {
   "cell_type": "code",
   "execution_count": null,
   "id": "fb6ace87",
   "metadata": {},
   "outputs": [],
   "source": [
    "arr = 2 * np.arange(10)\n",
    "\n",
    "print(arr)\n",
    "\n",
    "print(arr[3])"
   ]
  },
  {
   "cell_type": "code",
   "execution_count": null,
   "id": "8664810e",
   "metadata": {},
   "outputs": [],
   "source": [
    "# accessing first element\n",
    "arr[0]"
   ]
  },
  {
   "cell_type": "code",
   "execution_count": null,
   "id": "fc4b0619",
   "metadata": {},
   "outputs": [],
   "source": [
    "# accessing last element\n",
    "arr[-1]"
   ]
  },
  {
   "cell_type": "code",
   "execution_count": null,
   "id": "1cee4945",
   "metadata": {},
   "outputs": [],
   "source": [
    "# accessing multiple elements\n",
    "arr[[0,2,4]]"
   ]
  },
  {
   "cell_type": "code",
   "execution_count": null,
   "id": "56e896f2",
   "metadata": {},
   "outputs": [],
   "source": [
    "print(arr[15])\n"
   ]
  },
  {
   "cell_type": "code",
   "execution_count": null,
   "id": "107f18a2",
   "metadata": {},
   "outputs": [],
   "source": [
    "# matrix\n",
    "arr = np.array([[1, 2, 3], [4, 5, 6]])\n",
    "\n",
    "print(arr[1, 2])"
   ]
  },
  {
   "cell_type": "code",
   "execution_count": null,
   "id": "8e92e2ba",
   "metadata": {},
   "outputs": [],
   "source": [
    "# update items in matrix\n",
    "arr[1, 2] = 99\n",
    "\n",
    "print(arr)"
   ]
  },
  {
   "cell_type": "code",
   "execution_count": null,
   "id": "361c4556",
   "metadata": {},
   "outputs": [],
   "source": [
    "arr1 = np.array([[1, 2, 3], [4, 5, 6], [8, 77, 85]])\n",
    "\n",
    "print(arr1[2, 2])"
   ]
  },
  {
   "cell_type": "markdown",
   "id": "b1baac53",
   "metadata": {},
   "source": [
    "# Numpy Slicing"
   ]
  },
  {
   "cell_type": "code",
   "execution_count": null,
   "id": "4b5130f6",
   "metadata": {},
   "outputs": [],
   "source": [
    "arr2 = np.arange(10)\n",
    "arr2"
   ]
  },
  {
   "cell_type": "code",
   "execution_count": null,
   "id": "85b64825",
   "metadata": {},
   "outputs": [],
   "source": [
    "# to get all the elements from 2nd index\n",
    "arr2[2:]"
   ]
  },
  {
   "cell_type": "code",
   "execution_count": null,
   "id": "c40a6209",
   "metadata": {},
   "outputs": [],
   "source": [
    "# to get all the elements \n",
    "arr2[:]"
   ]
  },
  {
   "cell_type": "code",
   "execution_count": null,
   "id": "d52ecf59",
   "metadata": {},
   "outputs": [],
   "source": [
    "# to get all the elements from 7nd index\n",
    "arr2[7:]"
   ]
  },
  {
   "cell_type": "code",
   "execution_count": null,
   "id": "b7023ea3",
   "metadata": {},
   "outputs": [],
   "source": [
    "# to get all the elements betweeb 2nd and 7nd index\n",
    "arr2[2:7]"
   ]
  },
  {
   "cell_type": "code",
   "execution_count": null,
   "id": "496843ad",
   "metadata": {},
   "outputs": [],
   "source": [
    "# to get all the elements from -6th index\n",
    "arr2[:-6]"
   ]
  },
  {
   "cell_type": "code",
   "execution_count": null,
   "id": "73685c25",
   "metadata": {},
   "outputs": [],
   "source": [
    "# to get all the elements from 1st and -6th index\n",
    "arr2[1:-6]"
   ]
  },
  {
   "cell_type": "markdown",
   "id": "28cf575f",
   "metadata": {},
   "source": [
    "### n-dimension array slicing"
   ]
  },
  {
   "cell_type": "markdown",
   "id": "91f3aa75",
   "metadata": {},
   "source": [
    "<img src=\"numpyslice2.png\" style=\"width:20px;heigth:20px\"/>"
   ]
  },
  {
   "cell_type": "markdown",
   "id": "dc637c24",
   "metadata": {},
   "source": [
    "![](numpyslice1.png)"
   ]
  },
  {
   "cell_type": "code",
   "execution_count": null,
   "id": "4ca509d4",
   "metadata": {},
   "outputs": [],
   "source": [
    "# consider we have 2D array\n",
    "a = np.array([[ 0,  1,  2,  3],[ 4,  5,  6,  7],[ 8,  9, 10, 11],[12, 13, 14, 15]])"
   ]
  },
  {
   "cell_type": "code",
   "execution_count": null,
   "id": "f0ffd1be",
   "metadata": {},
   "outputs": [],
   "source": [
    "a"
   ]
  },
  {
   "cell_type": "code",
   "execution_count": null,
   "id": "d4516b0b",
   "metadata": {},
   "outputs": [],
   "source": [
    "# to access 9\n",
    "# a[rowIndex,columnIndex]\n",
    "\n",
    "a[2,1]"
   ]
  },
  {
   "cell_type": "code",
   "execution_count": null,
   "id": "8d2e6199",
   "metadata": {},
   "outputs": [],
   "source": [
    "# to access 13\n",
    "a[3,1]"
   ]
  },
  {
   "cell_type": "code",
   "execution_count": null,
   "id": "cf7eef03",
   "metadata": {},
   "outputs": [],
   "source": [
    "# to get 5,6,7\n",
    "#        9,10,11\n",
    "a[1:3, 1:] "
   ]
  },
  {
   "cell_type": "code",
   "execution_count": null,
   "id": "0e1e1228",
   "metadata": {},
   "outputs": [],
   "source": [
    "# to get 0,1,4,5\n",
    "a[0:2, 2:3] "
   ]
  },
  {
   "cell_type": "code",
   "execution_count": null,
   "id": "4c467047",
   "metadata": {},
   "outputs": [],
   "source": [
    "# to get 0,1,4,5\n",
    "a[0:2, 2:3] "
   ]
  },
  {
   "cell_type": "code",
   "execution_count": null,
   "id": "d5dbfd96",
   "metadata": {},
   "outputs": [],
   "source": [
    "# to get 10,11,14,15\n",
    "a[2:,2:]"
   ]
  },
  {
   "cell_type": "code",
   "execution_count": null,
   "id": "207ef124",
   "metadata": {},
   "outputs": [],
   "source": [
    "arr = np.array([[1, 2, 3, 4, 5], [6, 7, 8, 9, 10]])\n",
    "arr\n",
    "\n"
   ]
  },
  {
   "cell_type": "code",
   "execution_count": null,
   "id": "dd670ede",
   "metadata": {},
   "outputs": [],
   "source": [
    "#From both elements, slice index 1 to index 4 (not included), this will return a 2-D array:\n",
    "print(arr[0:, 1:])"
   ]
  },
  {
   "cell_type": "code",
   "execution_count": null,
   "id": "beb11bc8",
   "metadata": {},
   "outputs": [],
   "source": []
  },
  {
   "cell_type": "code",
   "execution_count": null,
   "id": "11a7534a",
   "metadata": {},
   "outputs": [],
   "source": []
  },
  {
   "cell_type": "code",
   "execution_count": null,
   "id": "1205162e",
   "metadata": {},
   "outputs": [],
   "source": []
  },
  {
   "cell_type": "markdown",
   "id": "7faeec6c",
   "metadata": {},
   "source": [
    "# Numpy Maths"
   ]
  },
  {
   "cell_type": "code",
   "execution_count": 3,
   "id": "9291db1f",
   "metadata": {},
   "outputs": [],
   "source": [
    "# ELEMENT WISE OPERATIONS\n",
    "\n",
    "x = np.array([[1,2], [3,4]])\n",
    "\n",
    "y = np.array([[5,6], [7,8]])"
   ]
  },
  {
   "cell_type": "code",
   "execution_count": 4,
   "id": "638ca07f",
   "metadata": {},
   "outputs": [
    {
     "name": "stdout",
     "output_type": "stream",
     "text": [
      "[[ 6  8]\n",
      " [10 12]]\n"
     ]
    }
   ],
   "source": [
    "#add\n",
    "print(np.add(x, y))\n"
   ]
  },
  {
   "cell_type": "code",
   "execution_count": 5,
   "id": "0544767c",
   "metadata": {},
   "outputs": [
    {
     "name": "stdout",
     "output_type": "stream",
     "text": [
      "[[-4 -4]\n",
      " [-4 -4]]\n"
     ]
    }
   ],
   "source": [
    "#subtract\n",
    "print(np.subtract(x, y))"
   ]
  },
  {
   "cell_type": "code",
   "execution_count": 6,
   "id": "52002958",
   "metadata": {},
   "outputs": [
    {
     "name": "stdout",
     "output_type": "stream",
     "text": [
      "[[ 5 12]\n",
      " [21 32]]\n"
     ]
    }
   ],
   "source": [
    "#multiply\n",
    "print(np.multiply(x, y))"
   ]
  },
  {
   "cell_type": "code",
   "execution_count": 7,
   "id": "1e2672b4",
   "metadata": {},
   "outputs": [
    {
     "name": "stdout",
     "output_type": "stream",
     "text": [
      "[[0.2        0.33333333]\n",
      " [0.42857143 0.5       ]]\n"
     ]
    }
   ],
   "source": [
    "#divide\n",
    "print(np.divide(x, y))"
   ]
  },
  {
   "cell_type": "code",
   "execution_count": 8,
   "id": "eaaf12d2",
   "metadata": {},
   "outputs": [
    {
     "name": "stdout",
     "output_type": "stream",
     "text": [
      "[[19 22]\n",
      " [43 50]]\n",
      "[[19 22]\n",
      " [43 50]]\n"
     ]
    }
   ],
   "source": [
    "# Matrix Multiplication\n",
    "\n",
    "print(np.matmul(x, y))\n",
    "\n",
    "print(np.dot(x, y))"
   ]
  },
  {
   "cell_type": "code",
   "execution_count": 9,
   "id": "3ec7746d",
   "metadata": {},
   "outputs": [
    {
     "name": "stdout",
     "output_type": "stream",
     "text": [
      "10\n",
      "[4 6]\n",
      "[3 7]\n"
     ]
    }
   ],
   "source": [
    "x = np.array([[1,2], [3,4]])\n",
    "\n",
    "print(np.sum(x))\n",
    "\n",
    "print(np.sum(x, axis=0)) # Column Wise\n",
    "\n",
    "print(np.sum(x, axis=1)) # Row wise"
   ]
  },
  {
   "cell_type": "code",
   "execution_count": 10,
   "id": "430f005e",
   "metadata": {},
   "outputs": [
    {
     "name": "stdout",
     "output_type": "stream",
     "text": [
      "1\n",
      "4\n"
     ]
    }
   ],
   "source": [
    "#minimum\n",
    "print(np.min(x))\n",
    "\n",
    "#maximum\n",
    "print(np.max(x))"
   ]
  },
  {
   "cell_type": "code",
   "execution_count": 11,
   "id": "770385da",
   "metadata": {},
   "outputs": [
    {
     "name": "stdout",
     "output_type": "stream",
     "text": [
      "[[1 2]\n",
      " [3 4]]\n"
     ]
    }
   ],
   "source": [
    "print(x)\n"
   ]
  },
  {
   "cell_type": "code",
   "execution_count": 12,
   "id": "2ce020d9",
   "metadata": {},
   "outputs": [
    {
     "name": "stdout",
     "output_type": "stream",
     "text": [
      "[[1 3]\n",
      " [2 4]]\n"
     ]
    }
   ],
   "source": [
    "# transpose\n",
    "print(x.T)"
   ]
  },
  {
   "cell_type": "markdown",
   "id": "03acb774",
   "metadata": {},
   "source": [
    "# Numpy Statistics"
   ]
  },
  {
   "cell_type": "code",
   "execution_count": 15,
   "id": "fd3ad526",
   "metadata": {},
   "outputs": [],
   "source": [
    "x = np.array([160, 180, 146, 162, 184, 180])"
   ]
  },
  {
   "cell_type": "code",
   "execution_count": 16,
   "id": "f25b72d8",
   "metadata": {},
   "outputs": [
    {
     "name": "stdout",
     "output_type": "stream",
     "text": [
      "184\n",
      "146\n"
     ]
    }
   ],
   "source": [
    "print(np.max(x))\n",
    "\n",
    "print(np.min(x))"
   ]
  },
  {
   "cell_type": "code",
   "execution_count": 17,
   "id": "deed73af",
   "metadata": {},
   "outputs": [
    {
     "name": "stdout",
     "output_type": "stream",
     "text": [
      "168.66666666666666\n"
     ]
    }
   ],
   "source": [
    "#mean\n",
    "print(np. mean(x))"
   ]
  },
  {
   "cell_type": "code",
   "execution_count": 18,
   "id": "f42d0f50",
   "metadata": {},
   "outputs": [
    {
     "name": "stdout",
     "output_type": "stream",
     "text": [
      "171.0\n"
     ]
    }
   ],
   "source": [
    "#median\n",
    "print(np.median(x))"
   ]
  },
  {
   "cell_type": "code",
   "execution_count": 19,
   "id": "d73ac662",
   "metadata": {},
   "outputs": [
    {
     "name": "stdout",
     "output_type": "stream",
     "text": [
      "187.55555555555557\n"
     ]
    }
   ],
   "source": [
    "#variance\n",
    "print(np.var(x))"
   ]
  },
  {
   "cell_type": "code",
   "execution_count": 20,
   "id": "8faf562a",
   "metadata": {},
   "outputs": [
    {
     "name": "stdout",
     "output_type": "stream",
     "text": [
      "13.695092389449425\n"
     ]
    }
   ],
   "source": [
    "#standard deviation\n",
    "print(np.std(x))"
   ]
  },
  {
   "cell_type": "code",
   "execution_count": null,
   "id": "bc4f4650",
   "metadata": {},
   "outputs": [],
   "source": []
  },
  {
   "cell_type": "code",
   "execution_count": null,
   "id": "0e73b16a",
   "metadata": {},
   "outputs": [],
   "source": []
  },
  {
   "cell_type": "code",
   "execution_count": null,
   "id": "a4af558c",
   "metadata": {},
   "outputs": [],
   "source": []
  },
  {
   "cell_type": "code",
   "execution_count": null,
   "id": "d14a3433",
   "metadata": {},
   "outputs": [],
   "source": []
  },
  {
   "cell_type": "code",
   "execution_count": null,
   "id": "6f650cb1",
   "metadata": {},
   "outputs": [],
   "source": []
  },
  {
   "cell_type": "markdown",
   "id": "751d6a2c",
   "metadata": {},
   "source": [
    "# Numpy Reshape"
   ]
  },
  {
   "cell_type": "code",
   "execution_count": null,
   "id": "858b4178",
   "metadata": {},
   "outputs": [],
   "source": [
    "import numpy as np"
   ]
  },
  {
   "cell_type": "code",
   "execution_count": 21,
   "id": "7879fccb",
   "metadata": {},
   "outputs": [
    {
     "name": "stdout",
     "output_type": "stream",
     "text": [
      "[ 0  5 10 15 20 25 30 35 40 45]\n"
     ]
    }
   ],
   "source": [
    "arr = np.arange(0, 50, 5)\n",
    "\n",
    "print(arr)"
   ]
  },
  {
   "cell_type": "code",
   "execution_count": 22,
   "id": "1363efa4",
   "metadata": {},
   "outputs": [
    {
     "name": "stdout",
     "output_type": "stream",
     "text": [
      "[[ 0  5 10 15 20]\n",
      " [25 30 35 40 45]]\n"
     ]
    }
   ],
   "source": [
    "#reshape\n",
    "arr2d = arr.reshape(2, 5)\n",
    "\n",
    "print(arr2d)"
   ]
  },
  {
   "cell_type": "code",
   "execution_count": 23,
   "id": "4ec4874a",
   "metadata": {},
   "outputs": [
    {
     "name": "stdout",
     "output_type": "stream",
     "text": [
      "[[ 0  5]\n",
      " [10 15]\n",
      " [20 25]\n",
      " [30 35]\n",
      " [40 45]]\n"
     ]
    }
   ],
   "source": [
    "arr2d = arr.reshape(5, 2)\n",
    "\n",
    "print(arr2d)"
   ]
  },
  {
   "cell_type": "code",
   "execution_count": 24,
   "id": "0c52c027",
   "metadata": {},
   "outputs": [
    {
     "ename": "ValueError",
     "evalue": "cannot reshape array of size 10 into shape (3,3)",
     "output_type": "error",
     "traceback": [
      "\u001b[1;31m---------------------------------------------------------------------------\u001b[0m",
      "\u001b[1;31mValueError\u001b[0m                                Traceback (most recent call last)",
      "\u001b[1;32m~\\AppData\\Local\\Temp/ipykernel_3900/592283615.py\u001b[0m in \u001b[0;36m<module>\u001b[1;34m\u001b[0m\n\u001b[1;32m----> 1\u001b[1;33m \u001b[0marr2d\u001b[0m \u001b[1;33m=\u001b[0m \u001b[0marr\u001b[0m\u001b[1;33m.\u001b[0m\u001b[0mreshape\u001b[0m\u001b[1;33m(\u001b[0m\u001b[1;36m3\u001b[0m\u001b[1;33m,\u001b[0m \u001b[1;36m3\u001b[0m\u001b[1;33m)\u001b[0m\u001b[1;33m\u001b[0m\u001b[1;33m\u001b[0m\u001b[0m\n\u001b[0m",
      "\u001b[1;31mValueError\u001b[0m: cannot reshape array of size 10 into shape (3,3)"
     ]
    }
   ],
   "source": [
    "arr2d = arr.reshape(3, 3)"
   ]
  },
  {
   "cell_type": "code",
   "execution_count": 25,
   "id": "94989a6d",
   "metadata": {},
   "outputs": [
    {
     "name": "stdout",
     "output_type": "stream",
     "text": [
      "(45,)\n"
     ]
    }
   ],
   "source": [
    "arr = np.arange(5, 50)\n",
    "\n",
    "print(arr.shape)"
   ]
  },
  {
   "cell_type": "code",
   "execution_count": 26,
   "id": "96d4c78e",
   "metadata": {},
   "outputs": [
    {
     "name": "stdout",
     "output_type": "stream",
     "text": [
      "[[ 5  6  7  8  9 10 11 12 13]\n",
      " [14 15 16 17 18 19 20 21 22]\n",
      " [23 24 25 26 27 28 29 30 31]\n",
      " [32 33 34 35 36 37 38 39 40]\n",
      " [41 42 43 44 45 46 47 48 49]]\n"
     ]
    }
   ],
   "source": [
    "print(arr.reshape(5, 9))"
   ]
  },
  {
   "cell_type": "code",
   "execution_count": 27,
   "id": "70bf3d86",
   "metadata": {},
   "outputs": [
    {
     "name": "stdout",
     "output_type": "stream",
     "text": [
      "[[[ 5  6  7  8  9]\n",
      "  [10 11 12 13 14]\n",
      "  [15 16 17 18 19]]\n",
      "\n",
      " [[20 21 22 23 24]\n",
      "  [25 26 27 28 29]\n",
      "  [30 31 32 33 34]]\n",
      "\n",
      " [[35 36 37 38 39]\n",
      "  [40 41 42 43 44]\n",
      "  [45 46 47 48 49]]]\n"
     ]
    }
   ],
   "source": [
    "print(arr.reshape(3, 3, 5))"
   ]
  },
  {
   "cell_type": "code",
   "execution_count": 28,
   "id": "98d270e6",
   "metadata": {},
   "outputs": [
    {
     "name": "stdout",
     "output_type": "stream",
     "text": [
      "[ 5  6  7  8  9 10 11 12 13 14 15 16 17 18 19 20 21 22 23 24 25 26 27 28\n",
      " 29 30 31 32 33 34 35 36 37 38 39 40 41 42 43 44 45 46 47 48 49]\n"
     ]
    }
   ],
   "source": [
    "#flatten\n",
    "print(arr.flatten())"
   ]
  },
  {
   "cell_type": "markdown",
   "id": "46177854",
   "metadata": {},
   "source": [
    "# Miscellaneous Topics"
   ]
  },
  {
   "cell_type": "markdown",
   "id": "d44a9b3b",
   "metadata": {},
   "source": [
    "### Linspace"
   ]
  },
  {
   "cell_type": "code",
   "execution_count": 29,
   "id": "51e9380e",
   "metadata": {},
   "outputs": [
    {
     "name": "stdout",
     "output_type": "stream",
     "text": [
      "[1.  1.5 2.  2.5 3.  3.5 4.  4.5 5. ]\n"
     ]
    }
   ],
   "source": [
    "# Syntax => np.linspace(begin, end, # of elements)\n",
    "\n",
    "print(np.linspace(1, 5, 9))"
   ]
  },
  {
   "cell_type": "code",
   "execution_count": 30,
   "id": "1f5b2692",
   "metadata": {},
   "outputs": [
    {
     "name": "stdout",
     "output_type": "stream",
     "text": [
      "[10.  10.6 11.2 11.8 12.4 13. ]\n"
     ]
    }
   ],
   "source": [
    "print(np.linspace(10,13,6))"
   ]
  },
  {
   "cell_type": "markdown",
   "id": "502d4adb",
   "metadata": {},
   "source": [
    "### Sorting"
   ]
  },
  {
   "cell_type": "code",
   "execution_count": 31,
   "id": "dc534555",
   "metadata": {},
   "outputs": [
    {
     "name": "stdout",
     "output_type": "stream",
     "text": [
      "[[52 93 69 84 58 67 68 77 78 98]\n",
      " [66 96 98 65 81 71 67 79 98 73]\n",
      " [60 89 67 80 80 51 79 52 99 83]\n",
      " [58 76 91 86 58 79 99 66 64 97]\n",
      " [79 79 61 54 77 68 97 90 67 55]]\n"
     ]
    }
   ],
   "source": [
    "arr = np.random.randint(50, 100, size = (5, 10))\n",
    "\n",
    "print(arr)"
   ]
  },
  {
   "cell_type": "code",
   "execution_count": 32,
   "id": "be2c4cf7",
   "metadata": {},
   "outputs": [
    {
     "data": {
      "text/plain": [
       "array([[52, 76, 61, 54, 58, 51, 67, 52, 64, 55],\n",
       "       [58, 79, 67, 65, 58, 67, 68, 66, 67, 73],\n",
       "       [60, 89, 69, 80, 77, 68, 79, 77, 78, 83],\n",
       "       [66, 93, 91, 84, 80, 71, 97, 79, 98, 97],\n",
       "       [79, 96, 98, 86, 81, 79, 99, 90, 99, 98]])"
      ]
     },
     "execution_count": 32,
     "metadata": {},
     "output_type": "execute_result"
    }
   ],
   "source": [
    "# Column Wise Sorting\n",
    "\n",
    "np.sort(arr, axis = 0)"
   ]
  },
  {
   "cell_type": "code",
   "execution_count": 33,
   "id": "3aabca3e",
   "metadata": {},
   "outputs": [
    {
     "data": {
      "text/plain": [
       "array([[52, 58, 67, 68, 69, 77, 78, 84, 93, 98],\n",
       "       [65, 66, 67, 71, 73, 79, 81, 96, 98, 98],\n",
       "       [51, 52, 60, 67, 79, 80, 80, 83, 89, 99],\n",
       "       [58, 58, 64, 66, 76, 79, 86, 91, 97, 99],\n",
       "       [54, 55, 61, 67, 68, 77, 79, 79, 90, 97]])"
      ]
     },
     "execution_count": 33,
     "metadata": {},
     "output_type": "execute_result"
    }
   ],
   "source": [
    "# Row Wise Sorting\n",
    "\n",
    "np.sort(arr, axis = 1)"
   ]
  },
  {
   "cell_type": "markdown",
   "id": "64cbd0db",
   "metadata": {},
   "source": [
    "### Stacking"
   ]
  },
  {
   "cell_type": "code",
   "execution_count": 34,
   "id": "56de311a",
   "metadata": {},
   "outputs": [
    {
     "name": "stdout",
     "output_type": "stream",
     "text": [
      "[[ 5  6  7  8  9]\n",
      " [10 11 12 13 14]]\n"
     ]
    }
   ],
   "source": [
    "arr1 = np.arange(5,15).reshape(2,5)\n",
    "print(arr1)"
   ]
  },
  {
   "cell_type": "code",
   "execution_count": 35,
   "id": "61c8aa16",
   "metadata": {},
   "outputs": [
    {
     "name": "stdout",
     "output_type": "stream",
     "text": [
      "[[25 26 27 28 29]\n",
      " [30 31 32 33 34]]\n"
     ]
    }
   ],
   "source": [
    "arr2 = np.arange(25,35).reshape(2,5)\n",
    "print(arr2)"
   ]
  },
  {
   "cell_type": "code",
   "execution_count": 36,
   "id": "5671eb75",
   "metadata": {},
   "outputs": [
    {
     "data": {
      "text/plain": [
       "array([[ 5,  6,  7,  8,  9],\n",
       "       [10, 11, 12, 13, 14],\n",
       "       [25, 26, 27, 28, 29],\n",
       "       [30, 31, 32, 33, 34]])"
      ]
     },
     "execution_count": 36,
     "metadata": {},
     "output_type": "execute_result"
    }
   ],
   "source": [
    "np.vstack([arr1, arr2])"
   ]
  },
  {
   "cell_type": "code",
   "execution_count": 37,
   "id": "8864acfd",
   "metadata": {},
   "outputs": [
    {
     "data": {
      "text/plain": [
       "array([[ 5,  6,  7,  8,  9, 25, 26, 27, 28, 29],\n",
       "       [10, 11, 12, 13, 14, 30, 31, 32, 33, 34]])"
      ]
     },
     "execution_count": 37,
     "metadata": {},
     "output_type": "execute_result"
    }
   ],
   "source": [
    "np.hstack([arr1, arr2])"
   ]
  },
  {
   "cell_type": "markdown",
   "id": "7219ee63",
   "metadata": {},
   "source": [
    "### Concatenate"
   ]
  },
  {
   "cell_type": "code",
   "execution_count": 38,
   "id": "ac215212",
   "metadata": {},
   "outputs": [
    {
     "data": {
      "text/plain": [
       "array([[ 5,  6,  7,  8,  9],\n",
       "       [10, 11, 12, 13, 14],\n",
       "       [25, 26, 27, 28, 29],\n",
       "       [30, 31, 32, 33, 34]])"
      ]
     },
     "execution_count": 38,
     "metadata": {},
     "output_type": "execute_result"
    }
   ],
   "source": [
    "np.concatenate([arr1, arr2], axis = 0) # adding row wise"
   ]
  },
  {
   "cell_type": "code",
   "execution_count": 39,
   "id": "04238806",
   "metadata": {},
   "outputs": [
    {
     "data": {
      "text/plain": [
       "array([[ 5,  6,  7,  8,  9, 25, 26, 27, 28, 29],\n",
       "       [10, 11, 12, 13, 14, 30, 31, 32, 33, 34]])"
      ]
     },
     "execution_count": 39,
     "metadata": {},
     "output_type": "execute_result"
    }
   ],
   "source": [
    "np.concatenate([arr1, arr2], axis = 1) # adding Column wise"
   ]
  },
  {
   "cell_type": "markdown",
   "id": "d3edd720",
   "metadata": {},
   "source": [
    "### Append"
   ]
  },
  {
   "cell_type": "code",
   "execution_count": 40,
   "id": "5015a964",
   "metadata": {},
   "outputs": [
    {
     "data": {
      "text/plain": [
       "array([[ 5,  6,  7,  8,  9],\n",
       "       [10, 11, 12, 13, 14],\n",
       "       [25, 26, 27, 28, 29],\n",
       "       [30, 31, 32, 33, 34]])"
      ]
     },
     "execution_count": 40,
     "metadata": {},
     "output_type": "execute_result"
    }
   ],
   "source": [
    "np.append(arr1, arr2, axis = 0) # adding row wise"
   ]
  },
  {
   "cell_type": "code",
   "execution_count": 41,
   "id": "5570cc4a",
   "metadata": {},
   "outputs": [
    {
     "data": {
      "text/plain": [
       "array([[ 5,  6,  7,  8,  9, 25, 26, 27, 28, 29],\n",
       "       [10, 11, 12, 13, 14, 30, 31, 32, 33, 34]])"
      ]
     },
     "execution_count": 41,
     "metadata": {},
     "output_type": "execute_result"
    }
   ],
   "source": [
    "np.append(arr1, arr2, axis = 1) # adding Column wise"
   ]
  },
  {
   "cell_type": "markdown",
   "id": "86f4275e",
   "metadata": {},
   "source": [
    "### Where"
   ]
  },
  {
   "cell_type": "code",
   "execution_count": 42,
   "id": "52783e70",
   "metadata": {},
   "outputs": [
    {
     "name": "stdout",
     "output_type": "stream",
     "text": [
      "[[50 51 52 53 54 55 56 57 58 59]\n",
      " [60 61 62 63 64 65 66 67 68 69]\n",
      " [70 71 72 73 74 75 76 77 78 79]\n",
      " [80 81 82 83 84 85 86 87 88 89]\n",
      " [90 91 92 93 94 95 96 97 98 99]]\n"
     ]
    }
   ],
   "source": [
    "arr = np.arange(50, 100).reshape(5, 10)\n",
    "\n",
    "print(arr)"
   ]
  },
  {
   "cell_type": "code",
   "execution_count": 43,
   "id": "430f439e",
   "metadata": {},
   "outputs": [
    {
     "data": {
      "text/plain": [
       "array([[50, 51, 52, 53, 54, 55, 56, 57, 58, 59],\n",
       "       [60, 61, 62, 63, 64,  0,  0,  0,  0,  0],\n",
       "       [ 0,  0,  0,  0,  0,  0,  0,  0,  0,  0],\n",
       "       [ 0,  0,  0,  0,  0,  0,  0,  0,  0,  0],\n",
       "       [ 0,  0,  0,  0,  0,  0,  0,  0,  0,  0]])"
      ]
     },
     "execution_count": 43,
     "metadata": {},
     "output_type": "execute_result"
    }
   ],
   "source": [
    "np.where(arr > 64, 0, arr)"
   ]
  },
  {
   "cell_type": "code",
   "execution_count": 44,
   "id": "f0d0b29e",
   "metadata": {},
   "outputs": [
    {
     "data": {
      "text/plain": [
       "array([[50. , 51. , 52. , 53. , 54. , 55. , 56. , 57. , 58. , 59. ],\n",
       "       [60. , 61. , 62. , 63. , 64. ,  6.5,  6.6,  6.7,  6.8,  6.9],\n",
       "       [ 7. ,  7.1,  7.2,  7.3,  7.4,  7.5,  7.6,  7.7,  7.8,  7.9],\n",
       "       [ 8. ,  8.1,  8.2,  8.3,  8.4,  8.5,  8.6,  8.7,  8.8,  8.9],\n",
       "       [ 9. ,  9.1,  9.2,  9.3,  9.4,  9.5,  9.6,  9.7,  9.8,  9.9]])"
      ]
     },
     "execution_count": 44,
     "metadata": {},
     "output_type": "execute_result"
    }
   ],
   "source": [
    "np.where(arr > 64, arr/10, arr)"
   ]
  },
  {
   "cell_type": "code",
   "execution_count": null,
   "id": "a206d42a",
   "metadata": {},
   "outputs": [],
   "source": []
  }
 ],
 "metadata": {
  "kernelspec": {
   "display_name": "Python 3 (ipykernel)",
   "language": "python",
   "name": "python3"
  },
  "language_info": {
   "codemirror_mode": {
    "name": "ipython",
    "version": 3
   },
   "file_extension": ".py",
   "mimetype": "text/x-python",
   "name": "python",
   "nbconvert_exporter": "python",
   "pygments_lexer": "ipython3",
   "version": "3.9.6"
  }
 },
 "nbformat": 4,
 "nbformat_minor": 5
}
